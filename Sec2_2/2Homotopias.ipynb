{
 "cells": [
  {
   "cell_type": "markdown",
   "id": "3fa555d8-dce4-4ace-af0d-e64821c81852",
   "metadata": {},
   "source": [
    "# Sec Homotopía\n",
    "\n",
    "### Curso TDA UNAM"
   ]
  },
  {
   "cell_type": "markdown",
   "id": "84292bcf-9d0d-4af4-bb09-68d0c2e82a4a",
   "metadata": {},
   "source": [
    "En clase se propusieron las siguientes curvas paramétricas:\n",
    "\n",
    "\\begin{equation}\n",
    "f_0 = \\\\\n",
    "f_1 = \\\\\n",
    "\\end{equation}\n",
    "\n",
    "las cuales parametrizan media circunferencia unitaria."
   ]
  },
  {
   "cell_type": "markdown",
   "id": "cf12dc65-4325-4590-8a69-5091b3a0bead",
   "metadata": {},
   "source": [
    "También se propuso la siguiente función:\n",
    "\n",
    "\\begin{equation}\n",
    "h_t(x) = H(x,t)\n",
    "\\end{equation}\n",
    "\n",
    "la cual se puede escribir en forma paramétrica de la siguiente manera:\n",
    "\n",
    "\\begin{equation}\n",
    "h_t(x) = H(x,t)\n",
    "\\end{equation}\n",
    "\n",
    "\n",
    "Y graficamos para valores de $t$ en $[0,1]$"
   ]
  },
  {
   "cell_type": "code",
   "execution_count": null,
   "id": "61957bf7-ed7b-4e7b-94ee-2962d9ff9702",
   "metadata": {},
   "outputs": [],
   "source": []
  },
  {
   "cell_type": "code",
   "execution_count": null,
   "id": "f74067bd-5ab3-4df8-8c5e-e922adf556ff",
   "metadata": {},
   "outputs": [],
   "source": []
  },
  {
   "cell_type": "code",
   "execution_count": null,
   "id": "3451916d-181c-416b-80ca-638a8072dc9b",
   "metadata": {},
   "outputs": [],
   "source": []
  }
 ],
 "metadata": {
  "kernelspec": {
   "display_name": "Python 3 (ipykernel)",
   "language": "python",
   "name": "python3"
  },
  "language_info": {
   "codemirror_mode": {
    "name": "ipython",
    "version": 3
   },
   "file_extension": ".py",
   "mimetype": "text/x-python",
   "name": "python",
   "nbconvert_exporter": "python",
   "pygments_lexer": "ipython3",
   "version": "3.7.11"
  }
 },
 "nbformat": 4,
 "nbformat_minor": 5
}
